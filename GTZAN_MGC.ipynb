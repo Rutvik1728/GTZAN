{
  "cells": [
    {
      "cell_type": "code",
      "execution_count": null,
      "metadata": {
        "id": "cUqWpKj-NSkR"
      },
      "outputs": [],
      "source": [
        "#@title Importing All Libraries\n",
        "import os\n",
        "import gc\n",
        "import torch\n",
        "import torchaudio\n",
        "import torchvision\n",
        "import numpy as np\n",
        "import torch.nn as nn\n",
        "import torch.nn.functional as F\n",
        "import matplotlib.pyplot as plt\n",
        "import matplotlib.image as mpimg\n",
        "from torchvision import transforms\n",
        "from torch.utils.data import Dataset\n",
        "from torch.utils.data import DataLoader"
      ]
    },
    {
      "cell_type": "code",
      "execution_count": null,
      "metadata": {
        "colab": {
          "base_uri": "https://localhost:8080/"
        },
        "id": "2YTRhjB9NX2R",
        "outputId": "0a0ea5b7-8e8e-495e-847e-46457b8c30cf"
      },
      "outputs": [
        {
          "output_type": "stream",
          "name": "stdout",
          "text": [
            "Mounted at /content/Drive\n"
          ]
        }
      ],
      "source": [
        "#@title Mounting Drive\n",
        "from google.colab import drive\n",
        "drive.mount('/content/Drive')"
      ]
    },
    {
      "cell_type": "code",
      "execution_count": null,
      "metadata": {
        "id": "ebx-MH1DNgFa"
      },
      "outputs": [],
      "source": [
        "#@title Listing All Libraries\n",
        "lst = [\"blues\", \"classical\", \"country\", \"disco\", \"hiphop\", \"jazz\", \"metal\", \"pop\", \"reggae\", \"rock\"]"
      ]
    },
    {
      "cell_type": "code",
      "execution_count": null,
      "metadata": {
        "id": "3BAo_a-xc38I"
      },
      "outputs": [],
      "source": [
        "#@title Function Defination to Plot Spectrogram\n",
        "def plot_specgram(waveform, sample_rate, title=\"Spectrogram\", xlim=None):\n",
        "   waveform = waveform.numpy()\n",
        "   num_channels, num_frames = waveform.shape\n",
        "   figure, axes = plt.subplots(num_channels, 1)\n",
        "   if num_channels == 1:\n",
        "       axes = [axes]\n",
        "   for c in range(num_channels):\n",
        "       axes[c].specgram(waveform[c], Fs=sample_rate)\n",
        "       if num_channels > 1:\n",
        "           axes[c].set_ylabel(f\"Channel {c+1}\")\n",
        "       if xlim:\n",
        "           axes[c].set_xlim(xlim)\n",
        "   plt.xticks([]), plt.yticks([])"
      ]
    },
    {
      "cell_type": "code",
      "execution_count": null,
      "metadata": {
        "id": "nxAStv3Ufoz6"
      },
      "outputs": [],
      "source": [
        "#@title Making Training and Testing Directories to Store Spectrogram\n",
        "os.mkdir('/content/Train_image')\n",
        "for i in range(0,10):\n",
        "  os.mkdir('/content/Train_image/' + lst[i])\n",
        "\n",
        "os.mkdir('/content/Test_image')\n",
        "for i in range(0,10):\n",
        "  os.mkdir('/content/Test_image/' + lst[i])"
      ]
    },
    {
      "cell_type": "code",
      "execution_count": null,
      "metadata": {
        "id": "yugg99XuPQmQ",
        "colab": {
          "base_uri": "https://localhost:8080/"
        },
        "outputId": "ddfd2e99-c1e2-4dc6-a431-ac18c4aca4b9"
      },
      "outputs": [
        {
          "output_type": "stream",
          "name": "stderr",
          "text": [
            "/usr/local/lib/python3.7/dist-packages/matplotlib/axes/_axes.py:7592: RuntimeWarning: divide by zero encountered in log10\n",
            "  Z = 10. * np.log10(spec)\n"
          ]
        },
        {
          "output_type": "execute_result",
          "data": {
            "text/plain": [
              "0"
            ]
          },
          "metadata": {},
          "execution_count": 6
        }
      ],
      "source": [
        "#@title Plotting Training Spectrograms\n",
        "for i in range(0,10):\n",
        "  \n",
        "  dir_path = '/content/Drive/MyDrive/GTZAN_audio/' + lst[i]\n",
        "  lst1 = os.listdir(dir_path)\n",
        "  os.chdir('/content/Train_image/' + lst[i])\n",
        "\n",
        "  for j in range(0,90):\n",
        "    path = dir_path + '/' + lst1[j]\n",
        "\n",
        "    if path != '/content/Drive/MyDrive/GTZAN_audio/jazz/jazz.00054.wav':\n",
        "\n",
        "      waveform , sample_rate = torchaudio.load(path)\n",
        "\n",
        "      plot_specgram(waveform, sample_rate, lst1[j])\n",
        "      plt.savefig(lst1[j] + '.png')\n",
        "      plt.close()\n",
        "\n",
        "    else:\n",
        "      pass\n",
        "\n",
        "gc.collect()"
      ]
    },
    {
      "cell_type": "code",
      "source": [
        "#@title Plotting Testing Spectrograms\n",
        "for i in range(0,10):\n",
        "  \n",
        "  dir_path = '/content/Drive/MyDrive/GTZAN_audio/' + lst[i]\n",
        "  lst1 = os.listdir(dir_path)\n",
        "  os.chdir('/content/Test_image/' + lst[i])\n",
        "\n",
        "  for j in range(90,100):\n",
        "    path = dir_path + '/' + lst1[j]\n",
        "\n",
        "    if path != '/content/Drive/MyDrive/GTZAN_audio/jazz/jazz.00054.wav':\n",
        "\n",
        "      waveform , sample_rate = torchaudio.load(path)\n",
        "\n",
        "      plot_specgram(waveform, sample_rate, lst1[j])\n",
        "      plt.savefig(lst1[j] + '.png')\n",
        "      plt.close()\n",
        "\n",
        "    else:\n",
        "      pass\n",
        "\n",
        "gc.collect()"
      ],
      "metadata": {
        "id": "rTf09Pv__usU",
        "colab": {
          "base_uri": "https://localhost:8080/"
        },
        "outputId": "954a9917-5ebd-4dbb-c58c-77e7547dc97d"
      },
      "execution_count": null,
      "outputs": [
        {
          "output_type": "execute_result",
          "data": {
            "text/plain": [
              "1464471"
            ]
          },
          "metadata": {},
          "execution_count": 7
        }
      ]
    },
    {
      "cell_type": "code",
      "execution_count": null,
      "metadata": {
        "id": "jn0WSd16w3Ri"
      },
      "outputs": [],
      "source": [
        "#@title Loading Dataset to Normalise Dataset\n",
        "transform = transforms.Compose([transforms.ToTensor()])\n",
        "data_set = torchvision.datasets.ImageFolder('/content/Train_image', transform = transform)\n",
        "data = DataLoader(data_set, batch_size = 1000, shuffle = True)"
      ]
    },
    {
      "cell_type": "code",
      "source": [
        "#@title Calculating Mean and Standard Deviation\n",
        "mean = 0\n",
        "std = 0\n",
        "for k, (images, labels) in enumerate(data):\n",
        "  mean += torch.mean(images)\n",
        "  std += torch.std(images)\n",
        "\n",
        "mean = mean/(k+1)\n",
        "std = std/(k+1)"
      ],
      "metadata": {
        "id": "tSoCRrJ7UCtq"
      },
      "execution_count": null,
      "outputs": []
    },
    {
      "cell_type": "code",
      "source": [
        "#@title Deleting Previous Datasets\n",
        "del data_set\n",
        "del data"
      ],
      "metadata": {
        "id": "7wGT4uF3Hs-T"
      },
      "execution_count": null,
      "outputs": []
    },
    {
      "cell_type": "code",
      "source": [
        "#@title Loading Normalised Dataset\n",
        "transform = transforms.Compose([transforms.ToTensor(), transforms.Normalize(mean, std), transforms.Resize((144,144))])\n",
        "data_set = torchvision.datasets.ImageFolder('/content/Train_image', transform = transform)\n",
        "data = DataLoader(data_set, batch_size = 100, shuffle = True)"
      ],
      "metadata": {
        "id": "8O02yStrGTWA"
      },
      "execution_count": null,
      "outputs": []
    },
    {
      "cell_type": "code",
      "execution_count": null,
      "metadata": {
        "id": "eM0rQMb5yy4A",
        "colab": {
          "base_uri": "https://localhost:8080/"
        },
        "outputId": "1f85e934-3fb5-4df7-91f6-8a72d1c00f5b"
      },
      "outputs": [
        {
          "output_type": "stream",
          "name": "stdout",
          "text": [
            "Using cuda:0 device\n"
          ]
        }
      ],
      "source": [
        "#@title Selecting Device\n",
        "if torch.cuda.is_available():\n",
        "  dev = \"cuda:0\"\n",
        "else:\n",
        "  dev = \"cpu\"\n",
        "device = torch.device(dev)\n",
        "print(f\"Using {device} device\")"
      ]
    },
    {
      "cell_type": "code",
      "execution_count": null,
      "metadata": {
        "id": "HxMVnFWG2ur2",
        "colab": {
          "base_uri": "https://localhost:8080/"
        },
        "outputId": "ff729dd8-79e7-493a-8c0d-0d03b1ce2a4a"
      },
      "outputs": [
        {
          "output_type": "stream",
          "name": "stdout",
          "text": [
            "(288, 432, 4)\n"
          ]
        }
      ],
      "source": [
        "#@title Checking Image Dimensions\n",
        "img = mpimg.imread('/content/Train_image/blues/blues.00027.wav.png')\n",
        "print(img.shape)"
      ]
    },
    {
      "cell_type": "code",
      "execution_count": null,
      "metadata": {
        "id": "5qMmKiDpy3My"
      },
      "outputs": [],
      "source": [
        "#@title Defining Neural Network Class\n",
        "class Net(nn.Module):\n",
        "\n",
        "  def __init__(self):\n",
        "    super(Net, self).__init__()\n",
        "    self.L1 = nn.Sequential(\n",
        "        nn.Conv2d(3, 15, kernel_size = 3, stride = 1, padding = 1),\n",
        "        nn.BatchNorm2d(15),\n",
        "        nn.ReLU(),\n",
        "        nn.MaxPool2d(kernel_size = 2, stride = 2),\n",
        "        #nn.Dropout(0.1)\n",
        "    )\n",
        "    self.L2 = nn.Sequential(\n",
        "        nn.Conv2d(15, 45, kernel_size = 3, stride = 1, padding = 1),\n",
        "        nn.BatchNorm2d(45),\n",
        "        nn.ReLU(),\n",
        "        nn.MaxPool2d(kernel_size = 2, stride = 2),\n",
        "        #nn.Dropout(0.3)\n",
        "    )\n",
        "    self.L3 = nn.Sequential(\n",
        "        nn.Conv2d(45, 75, kernel_size = 3, stride = 1, padding = 1),\n",
        "        nn.BatchNorm2d(75),\n",
        "        nn.ReLU(),\n",
        "        nn.MaxPool2d(kernel_size = 2, stride = 2),\n",
        "        #nn.Dropout(0.1)\n",
        "    )\n",
        "    self.L4 = nn.Linear(18*18*75, 5000)\n",
        "    self.L5 = nn.Linear(5000, 500)\n",
        "    self.L6 = nn.Linear(500, 100)\n",
        "    self.L7 = nn.Linear(100, 10)\n",
        "\n",
        "  def forward(self, x):\n",
        "    out = self.L1(x)\n",
        "    out = self.L2(out)\n",
        "    out = self.L3(out)\n",
        "    out = out.reshape(out.size(0), -1)\n",
        "    out = self.L4(out)\n",
        "    out = F.relu(out)\n",
        "    out = self.L5(out)\n",
        "    out = F.relu(out)\n",
        "    out = self.L6(out)\n",
        "    out = F.relu(out)\n",
        "    out = self.L7(out)\n",
        "    out = F.log_softmax(out, dim=1)\n",
        "    return out"
      ]
    },
    {
      "cell_type": "code",
      "execution_count": null,
      "metadata": {
        "id": "pzntk-BZDi18"
      },
      "outputs": [],
      "source": [
        "#@title Creating a Neural Network Object\n",
        "NeuralNet = Net()\n",
        "NeuralNet = NeuralNet.to(device)\n",
        "criterion = nn.CrossEntropyLoss()\n",
        "optimizer = torch.optim.Adam(NeuralNet.parameters(), lr=5e-4,betas=(0.9, 0.999), eps=1e-08, weight_decay=0.01)"
      ]
    },
    {
      "cell_type": "code",
      "execution_count": null,
      "metadata": {
        "id": "572mt-9DD2T7",
        "colab": {
          "base_uri": "https://localhost:8080/",
          "height": 1000
        },
        "outputId": "f0654381-f809-40c2-d978-d8675bbb39df"
      },
      "outputs": [
        {
          "output_type": "stream",
          "name": "stdout",
          "text": [
            "tensor(2.3002, device='cuda:0', grad_fn=<NllLossBackward0>)\n",
            "14.0\n",
            "tensor(2.3714, device='cuda:0', grad_fn=<NllLossBackward0>)\n",
            "10.0\n",
            "tensor(2.1847, device='cuda:0', grad_fn=<NllLossBackward0>)\n",
            "17.0\n",
            "tensor(2.0303, device='cuda:0', grad_fn=<NllLossBackward0>)\n",
            "24.0\n",
            "tensor(1.8242, device='cuda:0', grad_fn=<NllLossBackward0>)\n",
            "32.0\n",
            "tensor(1.6095, device='cuda:0', grad_fn=<NllLossBackward0>)\n",
            "39.0\n",
            "tensor(1.5021, device='cuda:0', grad_fn=<NllLossBackward0>)\n",
            "43.0\n",
            "tensor(1.2718, device='cuda:0', grad_fn=<NllLossBackward0>)\n",
            "57.0\n",
            "tensor(1.3067, device='cuda:0', grad_fn=<NllLossBackward0>)\n",
            "54.0\n",
            "tensor(1.3621, device='cuda:0', grad_fn=<NllLossBackward0>)\n",
            "51.0\n",
            "tensor(1.2308, device='cuda:0', grad_fn=<NllLossBackward0>)\n",
            "58.0\n",
            "tensor(1.0806, device='cuda:0', grad_fn=<NllLossBackward0>)\n",
            "59.0\n",
            "tensor(1.2671, device='cuda:0', grad_fn=<NllLossBackward0>)\n",
            "49.0\n",
            "tensor(1.1590, device='cuda:0', grad_fn=<NllLossBackward0>)\n",
            "59.0\n",
            "tensor(0.8495, device='cuda:0', grad_fn=<NllLossBackward0>)\n",
            "69.0\n",
            "tensor(0.8720, device='cuda:0', grad_fn=<NllLossBackward0>)\n",
            "69.0\n",
            "tensor(0.8840, device='cuda:0', grad_fn=<NllLossBackward0>)\n",
            "69.0\n",
            "tensor(0.6851, device='cuda:0', grad_fn=<NllLossBackward0>)\n",
            "75.0\n",
            "tensor(0.8191, device='cuda:0', grad_fn=<NllLossBackward0>)\n",
            "71.0\n",
            "tensor(0.7307, device='cuda:0', grad_fn=<NllLossBackward0>)\n",
            "78.0\n",
            "tensor(0.8684, device='cuda:0', grad_fn=<NllLossBackward0>)\n",
            "67.0\n",
            "tensor(0.8333, device='cuda:0', grad_fn=<NllLossBackward0>)\n",
            "70.0\n",
            "tensor(0.6791, device='cuda:0', grad_fn=<NllLossBackward0>)\n",
            "71.0\n",
            "tensor(0.7377, device='cuda:0', grad_fn=<NllLossBackward0>)\n",
            "72.0\n",
            "tensor(0.6140, device='cuda:0', grad_fn=<NllLossBackward0>)\n",
            "77.0\n",
            "tensor(0.5161, device='cuda:0', grad_fn=<NllLossBackward0>)\n",
            "83.0\n",
            "tensor(0.3644, device='cuda:0', grad_fn=<NllLossBackward0>)\n",
            "93.0\n",
            "tensor(1.0010, device='cuda:0', grad_fn=<NllLossBackward0>)\n",
            "67.0\n",
            "tensor(0.6842, device='cuda:0', grad_fn=<NllLossBackward0>)\n",
            "80.0\n",
            "tensor(0.4714, device='cuda:0', grad_fn=<NllLossBackward0>)\n",
            "88.0\n",
            "tensor(0.6727, device='cuda:0', grad_fn=<NllLossBackward0>)\n",
            "67.0\n",
            "tensor(0.3010, device='cuda:0', grad_fn=<NllLossBackward0>)\n",
            "90.0\n",
            "tensor(0.2967, device='cuda:0', grad_fn=<NllLossBackward0>)\n",
            "93.0\n",
            "tensor(0.7504, device='cuda:0', grad_fn=<NllLossBackward0>)\n",
            "69.0\n",
            "tensor(0.5015, device='cuda:0', grad_fn=<NllLossBackward0>)\n",
            "78.0\n",
            "tensor(0.7506, device='cuda:0', grad_fn=<NllLossBackward0>)\n",
            "73.0\n",
            "tensor(0.3942, device='cuda:0', grad_fn=<NllLossBackward0>)\n",
            "84.0\n",
            "tensor(0.3684, device='cuda:0', grad_fn=<NllLossBackward0>)\n",
            "89.0\n",
            "tensor(0.1427, device='cuda:0', grad_fn=<NllLossBackward0>)\n",
            "97.0\n",
            "tensor(0.1966, device='cuda:0', grad_fn=<NllLossBackward0>)\n",
            "99.0\n",
            "tensor(0.1897, device='cuda:0', grad_fn=<NllLossBackward0>)\n",
            "96.0\n",
            "tensor(0.1611, device='cuda:0', grad_fn=<NllLossBackward0>)\n",
            "95.0\n",
            "tensor(0.3932, device='cuda:0', grad_fn=<NllLossBackward0>)\n",
            "84.0\n",
            "tensor(0.3936, device='cuda:0', grad_fn=<NllLossBackward0>)\n",
            "85.0\n",
            "tensor(0.1945, device='cuda:0', grad_fn=<NllLossBackward0>)\n",
            "95.0\n",
            "tensor(0.2368, device='cuda:0', grad_fn=<NllLossBackward0>)\n",
            "90.0\n",
            "tensor(0.1070, device='cuda:0', grad_fn=<NllLossBackward0>)\n",
            "99.0\n",
            "tensor(0.0960, device='cuda:0', grad_fn=<NllLossBackward0>)\n",
            "96.0\n",
            "tensor(0.2533, device='cuda:0', grad_fn=<NllLossBackward0>)\n",
            "91.0\n",
            "tensor(0.1340, device='cuda:0', grad_fn=<NllLossBackward0>)\n",
            "99.0\n",
            "tensor(0.0943, device='cuda:0', grad_fn=<NllLossBackward0>)\n",
            "98.0\n",
            "tensor(0.0571, device='cuda:0', grad_fn=<NllLossBackward0>)\n",
            "100.0\n",
            "tensor(0.0881, device='cuda:0', grad_fn=<NllLossBackward0>)\n",
            "99.0\n",
            "tensor(0.1280, device='cuda:0', grad_fn=<NllLossBackward0>)\n",
            "99.0\n",
            "tensor(0.0688, device='cuda:0', grad_fn=<NllLossBackward0>)\n",
            "100.0\n",
            "tensor(0.0575, device='cuda:0', grad_fn=<NllLossBackward0>)\n",
            "100.0\n",
            "tensor(0.0698, device='cuda:0', grad_fn=<NllLossBackward0>)\n",
            "99.0\n",
            "tensor(0.1189, device='cuda:0', grad_fn=<NllLossBackward0>)\n",
            "97.0\n",
            "tensor(0.0849, device='cuda:0', grad_fn=<NllLossBackward0>)\n",
            "100.0\n",
            "tensor(0.1204, device='cuda:0', grad_fn=<NllLossBackward0>)\n",
            "97.0\n",
            "tensor(0.4671, device='cuda:0', grad_fn=<NllLossBackward0>)\n",
            "88.0\n",
            "tensor(0.5894, device='cuda:0', grad_fn=<NllLossBackward0>)\n",
            "78.0\n",
            "tensor(0.2218, device='cuda:0', grad_fn=<NllLossBackward0>)\n",
            "93.0\n",
            "tensor(0.0975, device='cuda:0', grad_fn=<NllLossBackward0>)\n",
            "98.0\n",
            "tensor(0.0606, device='cuda:0', grad_fn=<NllLossBackward0>)\n",
            "100.0\n",
            "tensor(0.0591, device='cuda:0', grad_fn=<NllLossBackward0>)\n",
            "100.0\n",
            "tensor(0.0933, device='cuda:0', grad_fn=<NllLossBackward0>)\n",
            "98.0\n"
          ]
        },
        {
          "output_type": "error",
          "ename": "KeyboardInterrupt",
          "evalue": "ignored",
          "traceback": [
            "\u001b[0;31m---------------------------------------------------------------------------\u001b[0m",
            "\u001b[0;31mKeyboardInterrupt\u001b[0m                         Traceback (most recent call last)",
            "\u001b[0;32m<ipython-input-55-c16a7a5a66ef>\u001b[0m in \u001b[0;36m<module>\u001b[0;34m\u001b[0m\n\u001b[1;32m      6\u001b[0m   \u001b[0mtorch\u001b[0m\u001b[0;34m.\u001b[0m\u001b[0mcuda\u001b[0m\u001b[0;34m.\u001b[0m\u001b[0mempty_cache\u001b[0m\u001b[0;34m(\u001b[0m\u001b[0;34m)\u001b[0m\u001b[0;34m\u001b[0m\u001b[0;34m\u001b[0m\u001b[0m\n\u001b[1;32m      7\u001b[0m   \u001b[0mgc\u001b[0m\u001b[0;34m.\u001b[0m\u001b[0mcollect\u001b[0m\u001b[0;34m(\u001b[0m\u001b[0;34m)\u001b[0m\u001b[0;34m\u001b[0m\u001b[0;34m\u001b[0m\u001b[0m\n\u001b[0;32m----> 8\u001b[0;31m   \u001b[0;32mfor\u001b[0m \u001b[0mk\u001b[0m\u001b[0;34m,\u001b[0m \u001b[0;34m(\u001b[0m\u001b[0mimages\u001b[0m\u001b[0;34m,\u001b[0m\u001b[0mlabels\u001b[0m\u001b[0;34m)\u001b[0m \u001b[0;32min\u001b[0m \u001b[0menumerate\u001b[0m\u001b[0;34m(\u001b[0m\u001b[0mdata\u001b[0m\u001b[0;34m)\u001b[0m\u001b[0;34m:\u001b[0m\u001b[0;34m\u001b[0m\u001b[0;34m\u001b[0m\u001b[0m\n\u001b[0m\u001b[1;32m      9\u001b[0m     \u001b[0mimages\u001b[0m \u001b[0;34m=\u001b[0m \u001b[0mimages\u001b[0m\u001b[0;34m.\u001b[0m\u001b[0mto\u001b[0m\u001b[0;34m(\u001b[0m\u001b[0mdevice\u001b[0m\u001b[0;34m)\u001b[0m\u001b[0;34m\u001b[0m\u001b[0;34m\u001b[0m\u001b[0m\n\u001b[1;32m     10\u001b[0m     \u001b[0mlabels\u001b[0m \u001b[0;34m=\u001b[0m \u001b[0mlabels\u001b[0m\u001b[0;34m.\u001b[0m\u001b[0mto\u001b[0m\u001b[0;34m(\u001b[0m\u001b[0mdevice\u001b[0m\u001b[0;34m)\u001b[0m\u001b[0;34m\u001b[0m\u001b[0;34m\u001b[0m\u001b[0m\n",
            "\u001b[0;32m/usr/local/lib/python3.7/dist-packages/torch/utils/data/dataloader.py\u001b[0m in \u001b[0;36m__next__\u001b[0;34m(self)\u001b[0m\n\u001b[1;32m    679\u001b[0m                 \u001b[0;31m# TODO(https://github.com/pytorch/pytorch/issues/76750)\u001b[0m\u001b[0;34m\u001b[0m\u001b[0;34m\u001b[0m\u001b[0;34m\u001b[0m\u001b[0m\n\u001b[1;32m    680\u001b[0m                 \u001b[0mself\u001b[0m\u001b[0;34m.\u001b[0m\u001b[0m_reset\u001b[0m\u001b[0;34m(\u001b[0m\u001b[0;34m)\u001b[0m  \u001b[0;31m# type: ignore[call-arg]\u001b[0m\u001b[0;34m\u001b[0m\u001b[0;34m\u001b[0m\u001b[0m\n\u001b[0;32m--> 681\u001b[0;31m             \u001b[0mdata\u001b[0m \u001b[0;34m=\u001b[0m \u001b[0mself\u001b[0m\u001b[0;34m.\u001b[0m\u001b[0m_next_data\u001b[0m\u001b[0;34m(\u001b[0m\u001b[0;34m)\u001b[0m\u001b[0;34m\u001b[0m\u001b[0;34m\u001b[0m\u001b[0m\n\u001b[0m\u001b[1;32m    682\u001b[0m             \u001b[0mself\u001b[0m\u001b[0;34m.\u001b[0m\u001b[0m_num_yielded\u001b[0m \u001b[0;34m+=\u001b[0m \u001b[0;36m1\u001b[0m\u001b[0;34m\u001b[0m\u001b[0;34m\u001b[0m\u001b[0m\n\u001b[1;32m    683\u001b[0m             \u001b[0;32mif\u001b[0m \u001b[0mself\u001b[0m\u001b[0;34m.\u001b[0m\u001b[0m_dataset_kind\u001b[0m \u001b[0;34m==\u001b[0m \u001b[0m_DatasetKind\u001b[0m\u001b[0;34m.\u001b[0m\u001b[0mIterable\u001b[0m \u001b[0;32mand\u001b[0m\u001b[0;31m \u001b[0m\u001b[0;31m\\\u001b[0m\u001b[0;34m\u001b[0m\u001b[0;34m\u001b[0m\u001b[0m\n",
            "\u001b[0;32m/usr/local/lib/python3.7/dist-packages/torch/utils/data/dataloader.py\u001b[0m in \u001b[0;36m_next_data\u001b[0;34m(self)\u001b[0m\n\u001b[1;32m    719\u001b[0m     \u001b[0;32mdef\u001b[0m \u001b[0m_next_data\u001b[0m\u001b[0;34m(\u001b[0m\u001b[0mself\u001b[0m\u001b[0;34m)\u001b[0m\u001b[0;34m:\u001b[0m\u001b[0;34m\u001b[0m\u001b[0;34m\u001b[0m\u001b[0m\n\u001b[1;32m    720\u001b[0m         \u001b[0mindex\u001b[0m \u001b[0;34m=\u001b[0m \u001b[0mself\u001b[0m\u001b[0;34m.\u001b[0m\u001b[0m_next_index\u001b[0m\u001b[0;34m(\u001b[0m\u001b[0;34m)\u001b[0m  \u001b[0;31m# may raise StopIteration\u001b[0m\u001b[0;34m\u001b[0m\u001b[0;34m\u001b[0m\u001b[0m\n\u001b[0;32m--> 721\u001b[0;31m         \u001b[0mdata\u001b[0m \u001b[0;34m=\u001b[0m \u001b[0mself\u001b[0m\u001b[0;34m.\u001b[0m\u001b[0m_dataset_fetcher\u001b[0m\u001b[0;34m.\u001b[0m\u001b[0mfetch\u001b[0m\u001b[0;34m(\u001b[0m\u001b[0mindex\u001b[0m\u001b[0;34m)\u001b[0m  \u001b[0;31m# may raise StopIteration\u001b[0m\u001b[0;34m\u001b[0m\u001b[0;34m\u001b[0m\u001b[0m\n\u001b[0m\u001b[1;32m    722\u001b[0m         \u001b[0;32mif\u001b[0m \u001b[0mself\u001b[0m\u001b[0;34m.\u001b[0m\u001b[0m_pin_memory\u001b[0m\u001b[0;34m:\u001b[0m\u001b[0;34m\u001b[0m\u001b[0;34m\u001b[0m\u001b[0m\n\u001b[1;32m    723\u001b[0m             \u001b[0mdata\u001b[0m \u001b[0;34m=\u001b[0m \u001b[0m_utils\u001b[0m\u001b[0;34m.\u001b[0m\u001b[0mpin_memory\u001b[0m\u001b[0;34m.\u001b[0m\u001b[0mpin_memory\u001b[0m\u001b[0;34m(\u001b[0m\u001b[0mdata\u001b[0m\u001b[0;34m,\u001b[0m \u001b[0mself\u001b[0m\u001b[0;34m.\u001b[0m\u001b[0m_pin_memory_device\u001b[0m\u001b[0;34m)\u001b[0m\u001b[0;34m\u001b[0m\u001b[0;34m\u001b[0m\u001b[0m\n",
            "\u001b[0;32m/usr/local/lib/python3.7/dist-packages/torch/utils/data/_utils/fetch.py\u001b[0m in \u001b[0;36mfetch\u001b[0;34m(self, possibly_batched_index)\u001b[0m\n\u001b[1;32m     47\u001b[0m     \u001b[0;32mdef\u001b[0m \u001b[0mfetch\u001b[0m\u001b[0;34m(\u001b[0m\u001b[0mself\u001b[0m\u001b[0;34m,\u001b[0m \u001b[0mpossibly_batched_index\u001b[0m\u001b[0;34m)\u001b[0m\u001b[0;34m:\u001b[0m\u001b[0;34m\u001b[0m\u001b[0;34m\u001b[0m\u001b[0m\n\u001b[1;32m     48\u001b[0m         \u001b[0;32mif\u001b[0m \u001b[0mself\u001b[0m\u001b[0;34m.\u001b[0m\u001b[0mauto_collation\u001b[0m\u001b[0;34m:\u001b[0m\u001b[0;34m\u001b[0m\u001b[0;34m\u001b[0m\u001b[0m\n\u001b[0;32m---> 49\u001b[0;31m             \u001b[0mdata\u001b[0m \u001b[0;34m=\u001b[0m \u001b[0;34m[\u001b[0m\u001b[0mself\u001b[0m\u001b[0;34m.\u001b[0m\u001b[0mdataset\u001b[0m\u001b[0;34m[\u001b[0m\u001b[0midx\u001b[0m\u001b[0;34m]\u001b[0m \u001b[0;32mfor\u001b[0m \u001b[0midx\u001b[0m \u001b[0;32min\u001b[0m \u001b[0mpossibly_batched_index\u001b[0m\u001b[0;34m]\u001b[0m\u001b[0;34m\u001b[0m\u001b[0;34m\u001b[0m\u001b[0m\n\u001b[0m\u001b[1;32m     50\u001b[0m         \u001b[0;32melse\u001b[0m\u001b[0;34m:\u001b[0m\u001b[0;34m\u001b[0m\u001b[0;34m\u001b[0m\u001b[0m\n\u001b[1;32m     51\u001b[0m             \u001b[0mdata\u001b[0m \u001b[0;34m=\u001b[0m \u001b[0mself\u001b[0m\u001b[0;34m.\u001b[0m\u001b[0mdataset\u001b[0m\u001b[0;34m[\u001b[0m\u001b[0mpossibly_batched_index\u001b[0m\u001b[0;34m]\u001b[0m\u001b[0;34m\u001b[0m\u001b[0;34m\u001b[0m\u001b[0m\n",
            "\u001b[0;32m/usr/local/lib/python3.7/dist-packages/torch/utils/data/_utils/fetch.py\u001b[0m in \u001b[0;36m<listcomp>\u001b[0;34m(.0)\u001b[0m\n\u001b[1;32m     47\u001b[0m     \u001b[0;32mdef\u001b[0m \u001b[0mfetch\u001b[0m\u001b[0;34m(\u001b[0m\u001b[0mself\u001b[0m\u001b[0;34m,\u001b[0m \u001b[0mpossibly_batched_index\u001b[0m\u001b[0;34m)\u001b[0m\u001b[0;34m:\u001b[0m\u001b[0;34m\u001b[0m\u001b[0;34m\u001b[0m\u001b[0m\n\u001b[1;32m     48\u001b[0m         \u001b[0;32mif\u001b[0m \u001b[0mself\u001b[0m\u001b[0;34m.\u001b[0m\u001b[0mauto_collation\u001b[0m\u001b[0;34m:\u001b[0m\u001b[0;34m\u001b[0m\u001b[0;34m\u001b[0m\u001b[0m\n\u001b[0;32m---> 49\u001b[0;31m             \u001b[0mdata\u001b[0m \u001b[0;34m=\u001b[0m \u001b[0;34m[\u001b[0m\u001b[0mself\u001b[0m\u001b[0;34m.\u001b[0m\u001b[0mdataset\u001b[0m\u001b[0;34m[\u001b[0m\u001b[0midx\u001b[0m\u001b[0;34m]\u001b[0m \u001b[0;32mfor\u001b[0m \u001b[0midx\u001b[0m \u001b[0;32min\u001b[0m \u001b[0mpossibly_batched_index\u001b[0m\u001b[0;34m]\u001b[0m\u001b[0;34m\u001b[0m\u001b[0;34m\u001b[0m\u001b[0m\n\u001b[0m\u001b[1;32m     50\u001b[0m         \u001b[0;32melse\u001b[0m\u001b[0;34m:\u001b[0m\u001b[0;34m\u001b[0m\u001b[0;34m\u001b[0m\u001b[0m\n\u001b[1;32m     51\u001b[0m             \u001b[0mdata\u001b[0m \u001b[0;34m=\u001b[0m \u001b[0mself\u001b[0m\u001b[0;34m.\u001b[0m\u001b[0mdataset\u001b[0m\u001b[0;34m[\u001b[0m\u001b[0mpossibly_batched_index\u001b[0m\u001b[0;34m]\u001b[0m\u001b[0;34m\u001b[0m\u001b[0;34m\u001b[0m\u001b[0m\n",
            "\u001b[0;32m/usr/local/lib/python3.7/dist-packages/torchvision/datasets/folder.py\u001b[0m in \u001b[0;36m__getitem__\u001b[0;34m(self, index)\u001b[0m\n\u001b[1;32m    228\u001b[0m         \"\"\"\n\u001b[1;32m    229\u001b[0m         \u001b[0mpath\u001b[0m\u001b[0;34m,\u001b[0m \u001b[0mtarget\u001b[0m \u001b[0;34m=\u001b[0m \u001b[0mself\u001b[0m\u001b[0;34m.\u001b[0m\u001b[0msamples\u001b[0m\u001b[0;34m[\u001b[0m\u001b[0mindex\u001b[0m\u001b[0;34m]\u001b[0m\u001b[0;34m\u001b[0m\u001b[0;34m\u001b[0m\u001b[0m\n\u001b[0;32m--> 230\u001b[0;31m         \u001b[0msample\u001b[0m \u001b[0;34m=\u001b[0m \u001b[0mself\u001b[0m\u001b[0;34m.\u001b[0m\u001b[0mloader\u001b[0m\u001b[0;34m(\u001b[0m\u001b[0mpath\u001b[0m\u001b[0;34m)\u001b[0m\u001b[0;34m\u001b[0m\u001b[0;34m\u001b[0m\u001b[0m\n\u001b[0m\u001b[1;32m    231\u001b[0m         \u001b[0;32mif\u001b[0m \u001b[0mself\u001b[0m\u001b[0;34m.\u001b[0m\u001b[0mtransform\u001b[0m \u001b[0;32mis\u001b[0m \u001b[0;32mnot\u001b[0m \u001b[0;32mNone\u001b[0m\u001b[0;34m:\u001b[0m\u001b[0;34m\u001b[0m\u001b[0;34m\u001b[0m\u001b[0m\n\u001b[1;32m    232\u001b[0m             \u001b[0msample\u001b[0m \u001b[0;34m=\u001b[0m \u001b[0mself\u001b[0m\u001b[0;34m.\u001b[0m\u001b[0mtransform\u001b[0m\u001b[0;34m(\u001b[0m\u001b[0msample\u001b[0m\u001b[0;34m)\u001b[0m\u001b[0;34m\u001b[0m\u001b[0;34m\u001b[0m\u001b[0m\n",
            "\u001b[0;32m/usr/local/lib/python3.7/dist-packages/torchvision/datasets/folder.py\u001b[0m in \u001b[0;36mdefault_loader\u001b[0;34m(path)\u001b[0m\n\u001b[1;32m    267\u001b[0m         \u001b[0;32mreturn\u001b[0m \u001b[0maccimage_loader\u001b[0m\u001b[0;34m(\u001b[0m\u001b[0mpath\u001b[0m\u001b[0;34m)\u001b[0m\u001b[0;34m\u001b[0m\u001b[0;34m\u001b[0m\u001b[0m\n\u001b[1;32m    268\u001b[0m     \u001b[0;32melse\u001b[0m\u001b[0;34m:\u001b[0m\u001b[0;34m\u001b[0m\u001b[0;34m\u001b[0m\u001b[0m\n\u001b[0;32m--> 269\u001b[0;31m         \u001b[0;32mreturn\u001b[0m \u001b[0mpil_loader\u001b[0m\u001b[0;34m(\u001b[0m\u001b[0mpath\u001b[0m\u001b[0;34m)\u001b[0m\u001b[0;34m\u001b[0m\u001b[0;34m\u001b[0m\u001b[0m\n\u001b[0m\u001b[1;32m    270\u001b[0m \u001b[0;34m\u001b[0m\u001b[0m\n\u001b[1;32m    271\u001b[0m \u001b[0;34m\u001b[0m\u001b[0m\n",
            "\u001b[0;32m/usr/local/lib/python3.7/dist-packages/torchvision/datasets/folder.py\u001b[0m in \u001b[0;36mpil_loader\u001b[0;34m(path)\u001b[0m\n\u001b[1;32m    247\u001b[0m     \u001b[0;32mwith\u001b[0m \u001b[0mopen\u001b[0m\u001b[0;34m(\u001b[0m\u001b[0mpath\u001b[0m\u001b[0;34m,\u001b[0m \u001b[0;34m\"rb\"\u001b[0m\u001b[0;34m)\u001b[0m \u001b[0;32mas\u001b[0m \u001b[0mf\u001b[0m\u001b[0;34m:\u001b[0m\u001b[0;34m\u001b[0m\u001b[0;34m\u001b[0m\u001b[0m\n\u001b[1;32m    248\u001b[0m         \u001b[0mimg\u001b[0m \u001b[0;34m=\u001b[0m \u001b[0mImage\u001b[0m\u001b[0;34m.\u001b[0m\u001b[0mopen\u001b[0m\u001b[0;34m(\u001b[0m\u001b[0mf\u001b[0m\u001b[0;34m)\u001b[0m\u001b[0;34m\u001b[0m\u001b[0;34m\u001b[0m\u001b[0m\n\u001b[0;32m--> 249\u001b[0;31m         \u001b[0;32mreturn\u001b[0m \u001b[0mimg\u001b[0m\u001b[0;34m.\u001b[0m\u001b[0mconvert\u001b[0m\u001b[0;34m(\u001b[0m\u001b[0;34m\"RGB\"\u001b[0m\u001b[0;34m)\u001b[0m\u001b[0;34m\u001b[0m\u001b[0;34m\u001b[0m\u001b[0m\n\u001b[0m\u001b[1;32m    250\u001b[0m \u001b[0;34m\u001b[0m\u001b[0m\n\u001b[1;32m    251\u001b[0m \u001b[0;34m\u001b[0m\u001b[0m\n",
            "\u001b[0;32m/usr/local/lib/python3.7/dist-packages/PIL/Image.py\u001b[0m in \u001b[0;36mconvert\u001b[0;34m(self, mode, matrix, dither, palette, colors)\u001b[0m\n\u001b[1;32m    899\u001b[0m         \"\"\"\n\u001b[1;32m    900\u001b[0m \u001b[0;34m\u001b[0m\u001b[0m\n\u001b[0;32m--> 901\u001b[0;31m         \u001b[0mself\u001b[0m\u001b[0;34m.\u001b[0m\u001b[0mload\u001b[0m\u001b[0;34m(\u001b[0m\u001b[0;34m)\u001b[0m\u001b[0;34m\u001b[0m\u001b[0;34m\u001b[0m\u001b[0m\n\u001b[0m\u001b[1;32m    902\u001b[0m \u001b[0;34m\u001b[0m\u001b[0m\n\u001b[1;32m    903\u001b[0m         \u001b[0;32mif\u001b[0m \u001b[0;32mnot\u001b[0m \u001b[0mmode\u001b[0m \u001b[0;32mand\u001b[0m \u001b[0mself\u001b[0m\u001b[0;34m.\u001b[0m\u001b[0mmode\u001b[0m \u001b[0;34m==\u001b[0m \u001b[0;34m\"P\"\u001b[0m\u001b[0;34m:\u001b[0m\u001b[0;34m\u001b[0m\u001b[0;34m\u001b[0m\u001b[0m\n",
            "\u001b[0;32m/usr/local/lib/python3.7/dist-packages/PIL/ImageFile.py\u001b[0m in \u001b[0;36mload\u001b[0;34m(self)\u001b[0m\n\u001b[1;32m    249\u001b[0m \u001b[0;34m\u001b[0m\u001b[0m\n\u001b[1;32m    250\u001b[0m                             \u001b[0mb\u001b[0m \u001b[0;34m=\u001b[0m \u001b[0mb\u001b[0m \u001b[0;34m+\u001b[0m \u001b[0ms\u001b[0m\u001b[0;34m\u001b[0m\u001b[0;34m\u001b[0m\u001b[0m\n\u001b[0;32m--> 251\u001b[0;31m                             \u001b[0mn\u001b[0m\u001b[0;34m,\u001b[0m \u001b[0merr_code\u001b[0m \u001b[0;34m=\u001b[0m \u001b[0mdecoder\u001b[0m\u001b[0;34m.\u001b[0m\u001b[0mdecode\u001b[0m\u001b[0;34m(\u001b[0m\u001b[0mb\u001b[0m\u001b[0;34m)\u001b[0m\u001b[0;34m\u001b[0m\u001b[0;34m\u001b[0m\u001b[0m\n\u001b[0m\u001b[1;32m    252\u001b[0m                             \u001b[0;32mif\u001b[0m \u001b[0mn\u001b[0m \u001b[0;34m<\u001b[0m \u001b[0;36m0\u001b[0m\u001b[0;34m:\u001b[0m\u001b[0;34m\u001b[0m\u001b[0;34m\u001b[0m\u001b[0m\n\u001b[1;32m    253\u001b[0m                                 \u001b[0;32mbreak\u001b[0m\u001b[0;34m\u001b[0m\u001b[0;34m\u001b[0m\u001b[0m\n",
            "\u001b[0;31mKeyboardInterrupt\u001b[0m: "
          ]
        }
      ],
      "source": [
        "#@title Training Neural Network\n",
        "loss_func = []\n",
        "accuracy = []\n",
        "\n",
        "for i in range(0,100):\n",
        "  torch.cuda.empty_cache()\n",
        "  gc.collect()\n",
        "  for k, (images,labels) in enumerate(data):\n",
        "    images = images.to(device)\n",
        "    labels = labels.to(device)\n",
        "    output = NeuralNet(images)\n",
        "    loss = criterion(output, labels)\n",
        "    loss_func.append(float(loss))\n",
        "    total = labels.size(0)\n",
        "    _, predicted = torch.max(output.data , 1)\n",
        "    correct = (predicted == labels).sum().item()\n",
        "    acc = correct*100/total\n",
        "    accuracy.append(acc)\n",
        "    if k%10 == 0:\n",
        "      print(loss)\n",
        "      print(acc)\n",
        "    optimizer.zero_grad()\n",
        "    loss.backward()\n",
        "    optimizer.step()"
      ]
    },
    {
      "cell_type": "code",
      "execution_count": null,
      "metadata": {
        "id": "wM5n4ykVeo3J",
        "colab": {
          "base_uri": "https://localhost:8080/",
          "height": 545
        },
        "outputId": "c69fa2bf-4cef-4df2-bde4-208fb0c543fc"
      },
      "outputs": [
        {
          "output_type": "display_data",
          "data": {
            "text/plain": [
              "<Figure size 432x288 with 1 Axes>"
            ],
            "image/png": "[encoded data removed]"
          },
          "metadata": {
            "needs_background": "light"
          }
        },
        {
          "output_type": "display_data",
          "data": {
            "text/plain": [
              "<Figure size 432x288 with 1 Axes>"
            ],
            "image/png": "[encoded data removed]"
          },
          "metadata": {
            "needs_background": "light"
          }
        }
      ],
      "source": [
        "#@title Plotting Loss And Accuracy of the Neural Network\n",
        "plt.plot(loss_func)\n",
        "plt.title(\"Loss\")\n",
        "plt.show()\n",
        "plt.plot(accuracy)\n",
        "plt.title(\"Accuracy\")\n",
        "plt.show()"
      ]
    },
    {
      "cell_type": "code",
      "source": [
        "#@title Loading Test Dataset\n",
        "trans = transforms.Compose([transforms.ToTensor(), transforms.Resize((144,144))])\n",
        "test_set = torchvision.datasets.ImageFolder('/content/Test_image', transform = trans)\n",
        "test = DataLoader(test_set, batch_size = 100, shuffle = True)"
      ],
      "metadata": {
        "id": "wk7MuPiAxhMR"
      },
      "execution_count": null,
      "outputs": []
    },
    {
      "cell_type": "code",
      "source": [
        "#@title Checking Test Accuracy\n",
        "for k, (img,lab) in enumerate(test):\n",
        "    img = img.to(device)\n",
        "    lab = lab.to(device)\n",
        "    output = NeuralNet(img)\n",
        "    loss = criterion(output, lab)\n",
        "    total = lab.size(0)\n",
        "    _, predicted = torch.max(output.data , 1)\n",
        "    correct = (predicted == lab).sum().item()\n",
        "    acc = correct*100/total\n",
        "    print(loss)\n",
        "    print(acc)"
      ],
      "metadata": {
        "id": "2SCagSEvx--2",
        "colab": {
          "base_uri": "https://localhost:8080/"
        },
        "outputId": "b7df288f-adbc-47d2-8a1e-6023786a07d9"
      },
      "execution_count": null,
      "outputs": [
        {
          "output_type": "stream",
          "name": "stdout",
          "text": [
            "tensor(1.2801, device='cuda:0', grad_fn=<NllLossBackward0>)\n",
            "65.0\n"
          ]
        }
      ]
    }
  ],
  "metadata": {
    "accelerator": "GPU",
    "colab": {
      "collapsed_sections": [],
      "provenance": []
    },
    "kernelspec": {
      "display_name": "Python 3",
      "name": "python3"
    },
    "language_info": {
      "name": "python"
    }
  },
  "nbformat": 4,
  "nbformat_minor": 0
}