{
  "cells": [
    {
      "cell_type": "code",
      "execution_count": 1,
      "metadata": {
        "id": "cUqWpKj-NSkR"
      },
      "outputs": [],
      "source": [
        "#@title Importing All Libraries\n",
        "import os\n",
        "import gc\n",
        "import torch\n",
        "import torchaudio\n",
        "import torchvision\n",
        "import numpy as np\n",
        "import torch.nn as nn\n",
        "from torchvision import *\n",
        "import torch.nn.functional as F\n",
        "import matplotlib.pyplot as plt\n",
        "import matplotlib.image as mpimg\n",
        "from torchvision import transforms\n",
        "from torch.utils.data import Dataset\n",
        "from torch.utils.data import DataLoader"
      ]
    },
    {
      "cell_type": "code",
      "execution_count": 2,
      "metadata": {
        "colab": {
          "base_uri": "https://localhost:8080/"
        },
        "id": "2YTRhjB9NX2R",
        "outputId": "41174f6f-9f99-47f6-cf0b-8d2001360e3a"
      },
      "outputs": [
        {
          "output_type": "stream",
          "name": "stdout",
          "text": [
            "Mounted at /content/Drive\n"
          ]
        }
      ],
      "source": [
        "#@title Mounting Drive\n",
        "from google.colab import drive\n",
        "drive.mount('/content/Drive')"
      ]
    },
    {
      "cell_type": "code",
      "execution_count": 3,
      "metadata": {
        "id": "ebx-MH1DNgFa"
      },
      "outputs": [],
      "source": [
        "#@title Listing All Libraries\n",
        "lst = [\"blues\", \"classical\", \"country\", \"disco\", \"hiphop\", \"jazz\", \"metal\", \"pop\", \"reggae\", \"rock\"]"
      ]
    },
    {
      "cell_type": "code",
      "execution_count": 4,
      "metadata": {
        "id": "3BAo_a-xc38I"
      },
      "outputs": [],
      "source": [
        "#@title Function Defination to Plot Spectrogram\n",
        "def plot_specgram(waveform, sample_rate, title=\"Spectrogram\", xlim=None):\n",
        "   waveform = waveform.numpy()\n",
        "   num_channels, num_frames = waveform.shape\n",
        "   figure, axes = plt.subplots(num_channels, 1)\n",
        "   if num_channels == 1:\n",
        "       axes = [axes]\n",
        "   for c in range(num_channels):\n",
        "       axes[c].specgram(waveform[c], Fs=sample_rate)\n",
        "       if num_channels > 1:\n",
        "           axes[c].set_ylabel(f\"Channel {c+1}\")\n",
        "       if xlim:\n",
        "           axes[c].set_xlim(xlim)\n",
        "   plt.xticks([]), plt.yticks([])"
      ]
    },
    {
      "cell_type": "code",
      "execution_count": 5,
      "metadata": {
        "id": "nxAStv3Ufoz6"
      },
      "outputs": [],
      "source": [
        "#@title Making Training and Testing Directories to Store Spectrogram\n",
        "os.mkdir('/content/Train_image')\n",
        "for i in range(0,10):\n",
        "  os.mkdir('/content/Train_image/' + lst[i])\n",
        "\n",
        "os.mkdir('/content/Test_image')\n",
        "for i in range(0,10):\n",
        "  os.mkdir('/content/Test_image/' + lst[i])"
      ]
    },
    {
      "cell_type": "code",
      "execution_count": 6,
      "metadata": {
        "id": "yugg99XuPQmQ",
        "colab": {
          "base_uri": "https://localhost:8080/"
        },
        "outputId": "d5be027e-eb42-4a94-f4c3-7b09d7c489e7"
      },
      "outputs": [
        {
          "output_type": "stream",
          "name": "stderr",
          "text": [
            "/usr/local/lib/python3.7/dist-packages/matplotlib/axes/_axes.py:7592: RuntimeWarning: divide by zero encountered in log10\n",
            "  Z = 10. * np.log10(spec)\n"
          ]
        },
        {
          "output_type": "execute_result",
          "data": {
            "text/plain": [
              "0"
            ]
          },
          "metadata": {},
          "execution_count": 6
        }
      ],
      "source": [
        "#@title Plotting Training Spectrograms\n",
        "for i in range(0,10):\n",
        "  \n",
        "  dir_path = '/content/Drive/MyDrive/GTZAN_audio/' + lst[i]\n",
        "  lst1 = os.listdir(dir_path)\n",
        "  os.chdir('/content/Train_image/' + lst[i])\n",
        "\n",
        "  for j in range(0,90):\n",
        "    path = dir_path + '/' + lst1[j]\n",
        "\n",
        "    if path != '/content/Drive/MyDrive/GTZAN_audio/jazz/jazz.00054.wav':\n",
        "\n",
        "      waveform , sample_rate = torchaudio.load(path)\n",
        "\n",
        "      plot_specgram(waveform, sample_rate, lst1[j])\n",
        "      plt.savefig(lst1[j] + '.png')\n",
        "      plt.close()\n",
        "\n",
        "    else:\n",
        "      pass\n",
        "\n",
        "gc.collect()"
      ]
    },
    {
      "cell_type": "code",
      "source": [
        "#@title Plotting Testing Spectrograms\n",
        "for i in range(0,10):\n",
        "  \n",
        "  dir_path = '/content/Drive/MyDrive/GTZAN_audio/' + lst[i]\n",
        "  lst1 = os.listdir(dir_path)\n",
        "  os.chdir('/content/Test_image/' + lst[i])\n",
        "\n",
        "  for j in range(90,100):\n",
        "    path = dir_path + '/' + lst1[j]\n",
        "\n",
        "    if path != '/content/Drive/MyDrive/GTZAN_audio/jazz/jazz.00054.wav':\n",
        "\n",
        "      waveform , sample_rate = torchaudio.load(path)\n",
        "\n",
        "      plot_specgram(waveform, sample_rate, lst1[j])\n",
        "      plt.savefig(lst1[j] + '.png')\n",
        "      plt.close()\n",
        "\n",
        "    else:\n",
        "      pass\n",
        "\n",
        "gc.collect()"
      ],
      "metadata": {
        "id": "rTf09Pv__usU",
        "colab": {
          "base_uri": "https://localhost:8080/"
        },
        "outputId": "bcb1e983-8681-4863-c1da-9a189b41ba46"
      },
      "execution_count": 7,
      "outputs": [
        {
          "output_type": "execute_result",
          "data": {
            "text/plain": [
              "1464471"
            ]
          },
          "metadata": {},
          "execution_count": 7
        }
      ]
    },
    {
      "cell_type": "code",
      "execution_count": 8,
      "metadata": {
        "id": "jn0WSd16w3Ri"
      },
      "outputs": [],
      "source": [
        "#@title Loading Dataset to Normalise Dataset\n",
        "transform = transforms.Compose([transforms.ToTensor()])\n",
        "data_set = torchvision.datasets.ImageFolder('/content/Train_image', transform = transform)\n",
        "data = DataLoader(data_set, batch_size = 1000, shuffle = True)"
      ]
    },
    {
      "cell_type": "code",
      "source": [
        "#@title Calculating Mean and Standard Deviation\n",
        "mean = 0\n",
        "std = 0\n",
        "for k, (images, labels) in enumerate(data):\n",
        "  mean += torch.mean(images)\n",
        "  std += torch.std(images)\n",
        "\n",
        "mean = mean/(k+1)\n",
        "std = std/(k+1)"
      ],
      "metadata": {
        "id": "tSoCRrJ7UCtq"
      },
      "execution_count": 9,
      "outputs": []
    },
    {
      "cell_type": "code",
      "source": [
        "#@title Deleting Previous Datasets\n",
        "del data_set\n",
        "del data"
      ],
      "metadata": {
        "id": "7wGT4uF3Hs-T"
      },
      "execution_count": 10,
      "outputs": []
    },
    {
      "cell_type": "code",
      "source": [
        "#@title Loading Normalised Dataset\n",
        "transform = transforms.Compose([transforms.ToTensor(), transforms.Normalize(mean, std), transforms.Resize((144,144))])\n",
        "data_set = torchvision.datasets.ImageFolder('/content/Train_image', transform = transform)\n",
        "data = DataLoader(data_set, batch_size = 100, shuffle = True)"
      ],
      "metadata": {
        "id": "8O02yStrGTWA"
      },
      "execution_count": 11,
      "outputs": []
    },
    {
      "cell_type": "code",
      "execution_count": 12,
      "metadata": {
        "id": "eM0rQMb5yy4A",
        "colab": {
          "base_uri": "https://localhost:8080/"
        },
        "outputId": "d0418332-e65b-4de5-82af-c17ae11bfe53"
      },
      "outputs": [
        {
          "output_type": "stream",
          "name": "stdout",
          "text": [
            "Using cuda:0 device\n"
          ]
        }
      ],
      "source": [
        "#@title Selecting Device\n",
        "if torch.cuda.is_available():\n",
        "  dev = \"cuda:0\"\n",
        "else:\n",
        "  dev = \"cpu\"\n",
        "device = torch.device(dev)\n",
        "print(f\"Using {device} device\")"
      ]
    },
    {
      "cell_type": "code",
      "execution_count": 13,
      "metadata": {
        "id": "HxMVnFWG2ur2",
        "colab": {
          "base_uri": "https://localhost:8080/"
        },
        "outputId": "8f0ed180-6cc2-4000-8ba4-33d150de5b94"
      },
      "outputs": [
        {
          "output_type": "stream",
          "name": "stdout",
          "text": [
            "(288, 432, 4)\n"
          ]
        }
      ],
      "source": [
        "#@title Checking Image Dimensions\n",
        "img = mpimg.imread('/content/Train_image/blues/blues.00027.wav.png')\n",
        "print(img.shape)"
      ]
    },
    {
      "cell_type": "code",
      "execution_count": 14,
      "metadata": {
        "id": "5qMmKiDpy3My"
      },
      "outputs": [],
      "source": [
        "#@title Defining Neural Network Class\n",
        "class Net(nn.Module):\n",
        "\n",
        "  def __init__(self):\n",
        "    super(Net, self).__init__()\n",
        "    self.L1 = nn.Sequential(\n",
        "        nn.Conv2d(3, 15, kernel_size = 3, stride = 1, padding = 1),\n",
        "        nn.BatchNorm2d(15),\n",
        "        nn.ReLU(),\n",
        "        nn.MaxPool2d(kernel_size = 2, stride = 2),\n",
        "        #nn.Dropout(0.1)\n",
        "    )\n",
        "    self.L2 = nn.Sequential(\n",
        "        nn.Conv2d(15, 45, kernel_size = 3, stride = 1, padding = 1),\n",
        "        nn.BatchNorm2d(45),\n",
        "        nn.ReLU(),\n",
        "        nn.MaxPool2d(kernel_size = 2, stride = 2),\n",
        "        #nn.Dropout(0.3)\n",
        "    )\n",
        "    self.L3 = nn.Sequential(\n",
        "        nn.Conv2d(45, 75, kernel_size = 3, stride = 1, padding = 1),\n",
        "        nn.BatchNorm2d(75),\n",
        "        nn.ReLU(),\n",
        "        nn.MaxPool2d(kernel_size = 2, stride = 2),\n",
        "        #nn.Dropout(0.1)\n",
        "    )\n",
        "    self.L4 = nn.Linear(18*18*75, 5000)\n",
        "    self.L5 = nn.Linear(5000, 500)\n",
        "    self.L6 = nn.Linear(500, 100)\n",
        "    self.L7 = nn.Linear(100, 10)\n",
        "\n",
        "  def forward(self, x):\n",
        "    out = self.L1(x)\n",
        "    out = self.L2(out)\n",
        "    out = self.L3(out)\n",
        "    out = out.reshape(out.size(0), -1)\n",
        "    out = self.L4(out)\n",
        "    out = F.relu(out)\n",
        "    out = self.L5(out)\n",
        "    out = F.relu(out)\n",
        "    out = self.L6(out)\n",
        "    out = F.relu(out)\n",
        "    out = self.L7(out)\n",
        "    out = F.log_softmax(out, dim=1)\n",
        "    return out"
      ]
    },
    {
      "cell_type": "code",
      "execution_count": 15,
      "metadata": {
        "id": "pzntk-BZDi18"
      },
      "outputs": [],
      "source": [
        "#@title Creating a Neural Network Object\n",
        "NeuralNet = Net()\n",
        "NeuralNet = NeuralNet.to(device)\n",
        "criterion = nn.CrossEntropyLoss()\n",
        "optimizer = torch.optim.Adam(NeuralNet.parameters(), lr=5e-4,betas=(0.9, 0.999), eps=1e-08, weight_decay=0.01)"
      ]
    },
    {
      "cell_type": "code",
      "execution_count": 16,
      "metadata": {
        "id": "572mt-9DD2T7",
        "colab": {
          "base_uri": "https://localhost:8080/"
        },
        "outputId": "ad07ecf7-f127-493b-922f-bf931df0c2eb"
      },
      "outputs": [
        {
          "output_type": "stream",
          "name": "stdout",
          "text": [
            "tensor(2.3086, device='cuda:0', grad_fn=<NllLossBackward0>)\n",
            "8.0\n",
            "tensor(2.2118, device='cuda:0', grad_fn=<NllLossBackward0>)\n",
            "21.0\n",
            "tensor(2.0404, device='cuda:0', grad_fn=<NllLossBackward0>)\n",
            "25.0\n",
            "tensor(2.0050, device='cuda:0', grad_fn=<NllLossBackward0>)\n",
            "27.0\n",
            "tensor(1.9788, device='cuda:0', grad_fn=<NllLossBackward0>)\n",
            "26.0\n",
            "tensor(1.9133, device='cuda:0', grad_fn=<NllLossBackward0>)\n",
            "23.0\n",
            "tensor(1.7783, device='cuda:0', grad_fn=<NllLossBackward0>)\n",
            "31.0\n",
            "tensor(1.6520, device='cuda:0', grad_fn=<NllLossBackward0>)\n",
            "36.0\n",
            "tensor(1.4155, device='cuda:0', grad_fn=<NllLossBackward0>)\n",
            "49.0\n",
            "tensor(1.3525, device='cuda:0', grad_fn=<NllLossBackward0>)\n",
            "50.0\n",
            "tensor(1.4193, device='cuda:0', grad_fn=<NllLossBackward0>)\n",
            "44.0\n",
            "tensor(1.2949, device='cuda:0', grad_fn=<NllLossBackward0>)\n",
            "55.0\n",
            "tensor(1.0480, device='cuda:0', grad_fn=<NllLossBackward0>)\n",
            "60.0\n",
            "tensor(1.3880, device='cuda:0', grad_fn=<NllLossBackward0>)\n",
            "45.0\n",
            "tensor(1.0904, device='cuda:0', grad_fn=<NllLossBackward0>)\n",
            "56.0\n",
            "tensor(0.9858, device='cuda:0', grad_fn=<NllLossBackward0>)\n",
            "68.0\n",
            "tensor(0.9765, device='cuda:0', grad_fn=<NllLossBackward0>)\n",
            "66.0\n",
            "tensor(0.8423, device='cuda:0', grad_fn=<NllLossBackward0>)\n",
            "70.0\n",
            "tensor(1.0665, device='cuda:0', grad_fn=<NllLossBackward0>)\n",
            "63.0\n",
            "tensor(0.8232, device='cuda:0', grad_fn=<NllLossBackward0>)\n",
            "71.0\n",
            "tensor(0.8929, device='cuda:0', grad_fn=<NllLossBackward0>)\n",
            "66.0\n",
            "tensor(0.6630, device='cuda:0', grad_fn=<NllLossBackward0>)\n",
            "80.0\n",
            "tensor(0.7013, device='cuda:0', grad_fn=<NllLossBackward0>)\n",
            "72.0\n",
            "tensor(0.7746, device='cuda:0', grad_fn=<NllLossBackward0>)\n",
            "73.0\n",
            "tensor(0.6990, device='cuda:0', grad_fn=<NllLossBackward0>)\n",
            "75.0\n",
            "tensor(0.9265, device='cuda:0', grad_fn=<NllLossBackward0>)\n",
            "66.0\n",
            "tensor(0.8956, device='cuda:0', grad_fn=<NllLossBackward0>)\n",
            "68.0\n",
            "tensor(0.8792, device='cuda:0', grad_fn=<NllLossBackward0>)\n",
            "66.0\n",
            "tensor(0.7385, device='cuda:0', grad_fn=<NllLossBackward0>)\n",
            "76.0\n",
            "tensor(0.5743, device='cuda:0', grad_fn=<NllLossBackward0>)\n",
            "76.0\n",
            "tensor(0.3333, device='cuda:0', grad_fn=<NllLossBackward0>)\n",
            "91.0\n",
            "tensor(0.5338, device='cuda:0', grad_fn=<NllLossBackward0>)\n",
            "82.0\n",
            "tensor(0.6773, device='cuda:0', grad_fn=<NllLossBackward0>)\n",
            "72.0\n",
            "tensor(0.5423, device='cuda:0', grad_fn=<NllLossBackward0>)\n",
            "81.0\n",
            "tensor(0.5358, device='cuda:0', grad_fn=<NllLossBackward0>)\n",
            "81.0\n",
            "tensor(0.4609, device='cuda:0', grad_fn=<NllLossBackward0>)\n",
            "84.0\n",
            "tensor(0.1960, device='cuda:0', grad_fn=<NllLossBackward0>)\n",
            "97.0\n",
            "tensor(0.2502, device='cuda:0', grad_fn=<NllLossBackward0>)\n",
            "94.0\n",
            "tensor(0.3802, device='cuda:0', grad_fn=<NllLossBackward0>)\n",
            "83.0\n",
            "tensor(0.3699, device='cuda:0', grad_fn=<NllLossBackward0>)\n",
            "88.0\n",
            "tensor(0.5097, device='cuda:0', grad_fn=<NllLossBackward0>)\n",
            "79.0\n",
            "tensor(0.1772, device='cuda:0', grad_fn=<NllLossBackward0>)\n",
            "98.0\n",
            "tensor(0.3391, device='cuda:0', grad_fn=<NllLossBackward0>)\n",
            "90.0\n",
            "tensor(0.2221, device='cuda:0', grad_fn=<NllLossBackward0>)\n",
            "94.0\n",
            "tensor(0.1988, device='cuda:0', grad_fn=<NllLossBackward0>)\n",
            "95.0\n",
            "tensor(0.2494, device='cuda:0', grad_fn=<NllLossBackward0>)\n",
            "94.0\n",
            "tensor(0.1436, device='cuda:0', grad_fn=<NllLossBackward0>)\n",
            "100.0\n",
            "tensor(0.1348, device='cuda:0', grad_fn=<NllLossBackward0>)\n",
            "99.0\n",
            "tensor(0.1648, device='cuda:0', grad_fn=<NllLossBackward0>)\n",
            "96.0\n",
            "tensor(0.1320, device='cuda:0', grad_fn=<NllLossBackward0>)\n",
            "97.0\n"
          ]
        }
      ],
      "source": [
        "#@title Training Neural Network\n",
        "loss_func = []\n",
        "accuracy = []\n",
        "\n",
        "for i in range(0,100):\n",
        "  torch.cuda.empty_cache()\n",
        "  gc.collect()\n",
        "  for k, (images,labels) in enumerate(data):\n",
        "    images = images.to(device)\n",
        "    labels = labels.to(device)\n",
        "    output = NeuralNet(images)\n",
        "    loss = criterion(output, labels)\n",
        "    loss_func.append(float(loss))\n",
        "    total = labels.size(0)\n",
        "    _, predicted = torch.max(output.data , 1)\n",
        "    correct = (predicted == labels).sum().item()\n",
        "    acc = correct*100/total\n",
        "    accuracy.append(acc)\n",
        "    if k%10 == 0:\n",
        "      print(loss)\n",
        "      print(acc)\n",
        "    optimizer.zero_grad()\n",
        "    loss.backward()\n",
        "    optimizer.step()"
      ]
    },
    {
      "cell_type": "code",
      "execution_count": 17,
      "metadata": {
        "id": "wM5n4ykVeo3J",
        "colab": {
          "base_uri": "https://localhost:8080/",
          "height": 545
        },
        "outputId": "3f40a3de-2b1a-4408-c182-2a54fa81ce2b"
      },
      "outputs": [
        {
          "output_type": "display_data",
          "data": {
            "text/plain": [
              "<Figure size 432x288 with 1 Axes>"
            ],
            "image/png": "[encoded data removed]"
          },
          "metadata": {
            "needs_background": "light"
          }
        },
        {
          "output_type": "display_data",
          "data": {
            "text/plain": [
              "<Figure size 432x288 with 1 Axes>"
            ],
            "image/png": "[encoded data removed]"
          },
          "metadata": {
            "needs_background": "light"
          }
        }
      ],
      "source": [
        "#@title Plotting Loss And Accuracy of the Neural Network\n",
        "plt.plot(loss_func)\n",
        "plt.title(\"Loss\")\n",
        "plt.show()\n",
        "plt.plot(accuracy)\n",
        "plt.title(\"Accuracy\")\n",
        "plt.show()"
      ]
    },
    {
      "cell_type": "code",
      "source": [
        "#@title Loading Test Dataset\n",
        "trans = transforms.Compose([transforms.ToTensor(), transforms.Resize((144,144))])\n",
        "test_set = torchvision.datasets.ImageFolder('/content/Test_image', transform = trans)\n",
        "test = DataLoader(test_set, batch_size = 100, shuffle = True)"
      ],
      "metadata": {
        "id": "wk7MuPiAxhMR"
      },
      "execution_count": 18,
      "outputs": []
    },
    {
      "cell_type": "code",
      "source": [
        "#@title Checking Test Accuracy\n",
        "for k, (img,lab) in enumerate(test):\n",
        "    img = img.to(device)\n",
        "    lab = lab.to(device)\n",
        "    output = NeuralNet(img)\n",
        "    loss = criterion(output, lab)\n",
        "    total = lab.size(0)\n",
        "    _, predicted = torch.max(output.data , 1)\n",
        "    correct = (predicted == lab).sum().item()\n",
        "    acc = correct*100/total\n",
        "    print(loss)\n",
        "    print(acc)"
      ],
      "metadata": {
        "id": "2SCagSEvx--2",
        "colab": {
          "base_uri": "https://localhost:8080/"
        },
        "outputId": "d512d910-16ad-4d31-bc2b-8770d2870b7b"
      },
      "execution_count": 19,
      "outputs": [
        {
          "output_type": "stream",
          "name": "stdout",
          "text": [
            "tensor(1.4723, device='cuda:0', grad_fn=<NllLossBackward0>)\n",
            "52.0\n"
          ]
        }
      ]
    },
    {
      "cell_type": "code",
      "source": [
        "#@title Downloading ResNet18\n",
        "model = models.resnet18(pretrained=True)   #load resnet18 model\n",
        "num_features = model.fc.in_features     #extract fc layers features\n",
        "model.fc = nn.Linear(num_features, 10) #(num_of_class == 10)\n",
        "model = model.to(device) \n",
        "criterion = nn.CrossEntropyLoss()  #(set loss function)\n",
        "optimizer = torch.optim.SGD(model.parameters(), lr=0.0001, momentum=0.9)"
      ],
      "metadata": {
        "id": "jwU8vZiaASyj",
        "colab": {
          "base_uri": "https://localhost:8080/",
          "height": 156,
          "referenced_widgets": [
            "d15fbf9813bb4c59a3c110b54ad7f75f",
            "e90d40ccf03a4617b5c3f04f21282e69",
            "9f9a0e45c971443399d3490de35dfe63",
            "b631843e5ba648caa3d41da1e45f7ebe",
            "8f1ae83b09b04bae85b9300add419e74",
            "f92fe027ca754434b042f4d7f540292e",
            "0202479f5bd047daa8304dc102ae7a2b",
            "0b2acd8e302a42c89d470f8e9daa1ee6",
            "6f7a82f5b9ab43fcbca6403fa4e78cca",
            "651d2a1cfaa1485aa21bdadae13da09c",
            "c80ed7eb9cf74f339d348d5cc46eb054"
          ]
        },
        "outputId": "8d78b1f9-20ab-42c4-e3d1-eeb6125ec130"
      },
      "execution_count": 20,
      "outputs": [
        {
          "output_type": "stream",
          "name": "stderr",
          "text": [
            "/usr/local/lib/python3.7/dist-packages/torchvision/models/_utils.py:209: UserWarning: The parameter 'pretrained' is deprecated since 0.13 and will be removed in 0.15, please use 'weights' instead.\n",
            "  f\"The parameter '{pretrained_param}' is deprecated since 0.13 and will be removed in 0.15, \"\n",
            "/usr/local/lib/python3.7/dist-packages/torchvision/models/_utils.py:223: UserWarning: Arguments other than a weight enum or `None` for 'weights' are deprecated since 0.13 and will be removed in 0.15. The current behavior is equivalent to passing `weights=ResNet18_Weights.IMAGENET1K_V1`. You can also use `weights=ResNet18_Weights.DEFAULT` to get the most up-to-date weights.\n",
            "  warnings.warn(msg)\n",
            "Downloading: \"https://download.pytorch.org/models/resnet18-f37072fd.pth\" to /root/.cache/torch/hub/checkpoints/resnet18-f37072fd.pth\n"
          ]
        },
        {
          "output_type": "display_data",
          "data": {
            "text/plain": [
              "  0%|          | 0.00/44.7M [00:00<?, ?B/s]"
            ],
            "application/vnd.jupyter.widget-view+json": {
              "version_major": 2,
              "version_minor": 0,
              "model_id": "d15fbf9813bb4c59a3c110b54ad7f75f"
            }
          },
          "metadata": {}
        }
      ]
    },
    {
      "cell_type": "code",
      "source": [
        "#@title Training ResNet18\n",
        "loss_func = []\n",
        "accuracy = []\n",
        "\n",
        "for i in range(0,100):\n",
        "  model.train()\n",
        "  torch.cuda.empty_cache()\n",
        "  gc.collect()\n",
        "  for k, (images,labels) in enumerate(data):\n",
        "    images = images.to(device)\n",
        "    labels = labels.to(device)\n",
        "    output = model(images)\n",
        "    loss = criterion(output, labels)\n",
        "    loss_func.append(float(loss))\n",
        "    total = labels.size(0)\n",
        "    _, predicted = torch.max(output.data , 1)\n",
        "    correct = (predicted == labels).sum().item()\n",
        "    acc = correct*100/total\n",
        "    accuracy.append(acc)\n",
        "    if k%10 == 0:\n",
        "      print(loss)\n",
        "      print(acc)\n",
        "    optimizer.zero_grad()\n",
        "    loss.backward()\n",
        "    optimizer.step()"
      ],
      "metadata": {
        "colab": {
          "base_uri": "https://localhost:8080/"
        },
        "id": "-cUtRaX-BXXf",
        "outputId": "70f4a2bc-0114-4ded-c1a8-e2f35da2c592"
      },
      "execution_count": 21,
      "outputs": [
        {
          "output_type": "stream",
          "name": "stdout",
          "text": [
            "tensor(2.5909, device='cuda:0', grad_fn=<NllLossBackward0>)\n",
            "10.0\n",
            "tensor(2.3880, device='cuda:0', grad_fn=<NllLossBackward0>)\n",
            "17.0\n",
            "tensor(2.3309, device='cuda:0', grad_fn=<NllLossBackward0>)\n",
            "17.0\n",
            "tensor(2.1200, device='cuda:0', grad_fn=<NllLossBackward0>)\n",
            "28.0\n",
            "tensor(2.0456, device='cuda:0', grad_fn=<NllLossBackward0>)\n",
            "30.0\n",
            "tensor(1.9427, device='cuda:0', grad_fn=<NllLossBackward0>)\n",
            "33.0\n",
            "tensor(1.8796, device='cuda:0', grad_fn=<NllLossBackward0>)\n",
            "38.0\n",
            "tensor(1.7121, device='cuda:0', grad_fn=<NllLossBackward0>)\n",
            "55.0\n",
            "tensor(1.6188, device='cuda:0', grad_fn=<NllLossBackward0>)\n",
            "57.0\n",
            "tensor(1.5604, device='cuda:0', grad_fn=<NllLossBackward0>)\n",
            "55.0\n",
            "tensor(1.5902, device='cuda:0', grad_fn=<NllLossBackward0>)\n",
            "50.0\n",
            "tensor(1.4742, device='cuda:0', grad_fn=<NllLossBackward0>)\n",
            "67.0\n",
            "tensor(1.4946, device='cuda:0', grad_fn=<NllLossBackward0>)\n",
            "59.0\n",
            "tensor(1.4535, device='cuda:0', grad_fn=<NllLossBackward0>)\n",
            "59.0\n",
            "tensor(1.3285, device='cuda:0', grad_fn=<NllLossBackward0>)\n",
            "63.0\n",
            "tensor(1.2992, device='cuda:0', grad_fn=<NllLossBackward0>)\n",
            "65.0\n",
            "tensor(1.3195, device='cuda:0', grad_fn=<NllLossBackward0>)\n",
            "65.0\n",
            "tensor(1.2430, device='cuda:0', grad_fn=<NllLossBackward0>)\n",
            "71.0\n",
            "tensor(1.1773, device='cuda:0', grad_fn=<NllLossBackward0>)\n",
            "75.0\n",
            "tensor(1.1818, device='cuda:0', grad_fn=<NllLossBackward0>)\n",
            "75.0\n",
            "tensor(1.1183, device='cuda:0', grad_fn=<NllLossBackward0>)\n",
            "77.0\n",
            "tensor(1.1638, device='cuda:0', grad_fn=<NllLossBackward0>)\n",
            "75.0\n",
            "tensor(1.1285, device='cuda:0', grad_fn=<NllLossBackward0>)\n",
            "71.0\n",
            "tensor(1.1142, device='cuda:0', grad_fn=<NllLossBackward0>)\n",
            "71.0\n",
            "tensor(1.0839, device='cuda:0', grad_fn=<NllLossBackward0>)\n",
            "77.0\n",
            "tensor(1.0044, device='cuda:0', grad_fn=<NllLossBackward0>)\n",
            "78.0\n",
            "tensor(1.0066, device='cuda:0', grad_fn=<NllLossBackward0>)\n",
            "75.0\n",
            "tensor(1.0267, device='cuda:0', grad_fn=<NllLossBackward0>)\n",
            "78.0\n",
            "tensor(1.0392, device='cuda:0', grad_fn=<NllLossBackward0>)\n",
            "76.0\n",
            "tensor(0.9140, device='cuda:0', grad_fn=<NllLossBackward0>)\n",
            "81.0\n",
            "tensor(0.8409, device='cuda:0', grad_fn=<NllLossBackward0>)\n",
            "87.0\n",
            "tensor(0.8662, device='cuda:0', grad_fn=<NllLossBackward0>)\n",
            "84.0\n",
            "tensor(0.8982, device='cuda:0', grad_fn=<NllLossBackward0>)\n",
            "83.0\n",
            "tensor(0.8348, device='cuda:0', grad_fn=<NllLossBackward0>)\n",
            "86.0\n",
            "tensor(0.8628, device='cuda:0', grad_fn=<NllLossBackward0>)\n",
            "82.0\n",
            "tensor(0.7797, device='cuda:0', grad_fn=<NllLossBackward0>)\n",
            "84.0\n",
            "tensor(0.9223, device='cuda:0', grad_fn=<NllLossBackward0>)\n",
            "79.0\n",
            "tensor(0.7234, device='cuda:0', grad_fn=<NllLossBackward0>)\n",
            "90.0\n",
            "tensor(0.7559, device='cuda:0', grad_fn=<NllLossBackward0>)\n",
            "89.0\n",
            "tensor(0.7663, device='cuda:0', grad_fn=<NllLossBackward0>)\n",
            "89.0\n",
            "tensor(0.7341, device='cuda:0', grad_fn=<NllLossBackward0>)\n",
            "88.0\n",
            "tensor(0.6329, device='cuda:0', grad_fn=<NllLossBackward0>)\n",
            "93.0\n",
            "tensor(0.6433, device='cuda:0', grad_fn=<NllLossBackward0>)\n",
            "93.0\n",
            "tensor(0.6850, device='cuda:0', grad_fn=<NllLossBackward0>)\n",
            "87.0\n",
            "tensor(0.7130, device='cuda:0', grad_fn=<NllLossBackward0>)\n",
            "86.0\n",
            "tensor(0.6844, device='cuda:0', grad_fn=<NllLossBackward0>)\n",
            "93.0\n",
            "tensor(0.6247, device='cuda:0', grad_fn=<NllLossBackward0>)\n",
            "92.0\n",
            "tensor(0.7152, device='cuda:0', grad_fn=<NllLossBackward0>)\n",
            "88.0\n",
            "tensor(0.5750, device='cuda:0', grad_fn=<NllLossBackward0>)\n",
            "92.0\n",
            "tensor(0.5661, device='cuda:0', grad_fn=<NllLossBackward0>)\n",
            "91.0\n"
          ]
        }
      ]
    },
    {
      "cell_type": "code",
      "source": [
        "#@title Plotting Loss and Accuracy for ResNet18\n",
        "plt.plot(loss_func)\n",
        "plt.title(\"Loss\")\n",
        "plt.show()\n",
        "plt.plot(accuracy)\n",
        "plt.title(\"Accuracy\")\n",
        "plt.show()"
      ],
      "metadata": {
        "colab": {
          "base_uri": "https://localhost:8080/",
          "height": 545
        },
        "id": "zRUKl6KwGkDn",
        "outputId": "0e2e5fa9-295a-4579-f2d5-1387ade4e481"
      },
      "execution_count": 22,
      "outputs": [
        {
          "output_type": "display_data",
          "data": {
            "text/plain": [
              "<Figure size 432x288 with 1 Axes>"
            ],
            "image/png": "[encoded data removed]"
          },
          "metadata": {
            "needs_background": "light"
          }
        },
        {
          "output_type": "display_data",
          "data": {
            "text/plain": [
              "<Figure size 432x288 with 1 Axes>"
            ],
            "image/png": "[encoded data removed]"
          },
          "metadata": {
            "needs_background": "light"
          }
        }
      ]
    },
    {
      "cell_type": "code",
      "source": [
        "#@title Checking Test Accuracy for ResNet18\n",
        "for k, (img,lab) in enumerate(test):\n",
        "    img = img.to(device)\n",
        "    lab = lab.to(device)\n",
        "    output = model(img)\n",
        "    loss = criterion(output, lab)\n",
        "    total = lab.size(0)\n",
        "    _, predicted = torch.max(output.data , 1)\n",
        "    correct = (predicted == lab).sum().item()\n",
        "    acc = correct*100/total\n",
        "    print(loss)\n",
        "    print(acc)"
      ],
      "metadata": {
        "colab": {
          "base_uri": "https://localhost:8080/"
        },
        "id": "d1qLuZI_HFC5",
        "outputId": "7fc794cb-b443-465b-bb01-d1ac6dfa5780"
      },
      "execution_count": 23,
      "outputs": [
        {
          "output_type": "stream",
          "name": "stdout",
          "text": [
            "tensor(1.5820, device='cuda:0', grad_fn=<NllLossBackward0>)\n",
            "48.0\n"
          ]
        }
      ]
    }
  ],
  "metadata": {
    "accelerator": "GPU",
    "colab": {
      "collapsed_sections": [],
      "provenance": []
    },
    "kernelspec": {
      "display_name": "Python 3",
      "name": "python3"
    },
    "language_info": {
      "name": "python"
    },
    "widgets": {
      "application/vnd.jupyter.widget-state+json": {
        "d15fbf9813bb4c59a3c110b54ad7f75f": {
          "model_module": "@jupyter-widgets/controls",
          "model_name": "HBoxModel",
          "model_module_version": "1.5.0",
          "state": {
            "_dom_classes": [],
            "_model_module": "@jupyter-widgets/controls",
            "_model_module_version": "1.5.0",
            "_model_name": "HBoxModel",
            "_view_count": null,
            "_view_module": "@jupyter-widgets/controls",
            "_view_module_version": "1.5.0",
            "_view_name": "HBoxView",
            "box_style": "",
            "children": [
              "IPY_MODEL_e90d40ccf03a4617b5c3f04f21282e69",
              "IPY_MODEL_9f9a0e45c971443399d3490de35dfe63",
              "IPY_MODEL_b631843e5ba648caa3d41da1e45f7ebe"
            ],
            "layout": "IPY_MODEL_8f1ae83b09b04bae85b9300add419e74"
          }
        },
        "e90d40ccf03a4617b5c3f04f21282e69": {
          "model_module": "@jupyter-widgets/controls",
          "model_name": "HTMLModel",
          "model_module_version": "1.5.0",
          "state": {
            "_dom_classes": [],
            "_model_module": "@jupyter-widgets/controls",
            "_model_module_version": "1.5.0",
            "_model_name": "HTMLModel",
            "_view_count": null,
            "_view_module": "@jupyter-widgets/controls",
            "_view_module_version": "1.5.0",
            "_view_name": "HTMLView",
            "description": "",
            "description_tooltip": null,
            "layout": "IPY_MODEL_f92fe027ca754434b042f4d7f540292e",
            "placeholder": "​",
            "style": "IPY_MODEL_0202479f5bd047daa8304dc102ae7a2b",
            "value": "100%"
          }
        },
        "9f9a0e45c971443399d3490de35dfe63": {
          "model_module": "@jupyter-widgets/controls",
          "model_name": "FloatProgressModel",
          "model_module_version": "1.5.0",
          "state": {
            "_dom_classes": [],
            "_model_module": "@jupyter-widgets/controls",
            "_model_module_version": "1.5.0",
            "_model_name": "FloatProgressModel",
            "_view_count": null,
            "_view_module": "@jupyter-widgets/controls",
            "_view_module_version": "1.5.0",
            "_view_name": "ProgressView",
            "bar_style": "success",
            "description": "",
            "description_tooltip": null,
            "layout": "IPY_MODEL_0b2acd8e302a42c89d470f8e9daa1ee6",
            "max": 46830571,
            "min": 0,
            "orientation": "horizontal",
            "style": "IPY_MODEL_6f7a82f5b9ab43fcbca6403fa4e78cca",
            "value": 46830571
          }
        },
        "b631843e5ba648caa3d41da1e45f7ebe": {
          "model_module": "@jupyter-widgets/controls",
          "model_name": "HTMLModel",
          "model_module_version": "1.5.0",
          "state": {
            "_dom_classes": [],
            "_model_module": "@jupyter-widgets/controls",
            "_model_module_version": "1.5.0",
            "_model_name": "HTMLModel",
            "_view_count": null,
            "_view_module": "@jupyter-widgets/controls",
            "_view_module_version": "1.5.0",
            "_view_name": "HTMLView",
            "description": "",
            "description_tooltip": null,
            "layout": "IPY_MODEL_651d2a1cfaa1485aa21bdadae13da09c",
            "placeholder": "​",
            "style": "IPY_MODEL_c80ed7eb9cf74f339d348d5cc46eb054",
            "value": " 44.7M/44.7M [00:00&lt;00:00, 193MB/s]"
          }
        },
        "8f1ae83b09b04bae85b9300add419e74": {
          "model_module": "@jupyter-widgets/base",
          "model_name": "LayoutModel",
          "model_module_version": "1.2.0",
          "state": {
            "_model_module": "@jupyter-widgets/base",
            "_model_module_version": "1.2.0",
            "_model_name": "LayoutModel",
            "_view_count": null,
            "_view_module": "@jupyter-widgets/base",
            "_view_module_version": "1.2.0",
            "_view_name": "LayoutView",
            "align_content": null,
            "align_items": null,
            "align_self": null,
            "border": null,
            "bottom": null,
            "display": null,
            "flex": null,
            "flex_flow": null,
            "grid_area": null,
            "grid_auto_columns": null,
            "grid_auto_flow": null,
            "grid_auto_rows": null,
            "grid_column": null,
            "grid_gap": null,
            "grid_row": null,
            "grid_template_areas": null,
            "grid_template_columns": null,
            "grid_template_rows": null,
            "height": null,
            "justify_content": null,
            "justify_items": null,
            "left": null,
            "margin": null,
            "max_height": null,
            "max_width": null,
            "min_height": null,
            "min_width": null,
            "object_fit": null,
            "object_position": null,
            "order": null,
            "overflow": null,
            "overflow_x": null,
            "overflow_y": null,
            "padding": null,
            "right": null,
            "top": null,
            "visibility": null,
            "width": null
          }
        },
        "f92fe027ca754434b042f4d7f540292e": {
          "model_module": "@jupyter-widgets/base",
          "model_name": "LayoutModel",
          "model_module_version": "1.2.0",
          "state": {
            "_model_module": "@jupyter-widgets/base",
            "_model_module_version": "1.2.0",
            "_model_name": "LayoutModel",
            "_view_count": null,
            "_view_module": "@jupyter-widgets/base",
            "_view_module_version": "1.2.0",
            "_view_name": "LayoutView",
            "align_content": null,
            "align_items": null,
            "align_self": null,
            "border": null,
            "bottom": null,
            "display": null,
            "flex": null,
            "flex_flow": null,
            "grid_area": null,
            "grid_auto_columns": null,
            "grid_auto_flow": null,
            "grid_auto_rows": null,
            "grid_column": null,
            "grid_gap": null,
            "grid_row": null,
            "grid_template_areas": null,
            "grid_template_columns": null,
            "grid_template_rows": null,
            "height": null,
            "justify_content": null,
            "justify_items": null,
            "left": null,
            "margin": null,
            "max_height": null,
            "max_width": null,
            "min_height": null,
            "min_width": null,
            "object_fit": null,
            "object_position": null,
            "order": null,
            "overflow": null,
            "overflow_x": null,
            "overflow_y": null,
            "padding": null,
            "right": null,
            "top": null,
            "visibility": null,
            "width": null
          }
        },
        "0202479f5bd047daa8304dc102ae7a2b": {
          "model_module": "@jupyter-widgets/controls",
          "model_name": "DescriptionStyleModel",
          "model_module_version": "1.5.0",
          "state": {
            "_model_module": "@jupyter-widgets/controls",
            "_model_module_version": "1.5.0",
            "_model_name": "DescriptionStyleModel",
            "_view_count": null,
            "_view_module": "@jupyter-widgets/base",
            "_view_module_version": "1.2.0",
            "_view_name": "StyleView",
            "description_width": ""
          }
        },
        "0b2acd8e302a42c89d470f8e9daa1ee6": {
          "model_module": "@jupyter-widgets/base",
          "model_name": "LayoutModel",
          "model_module_version": "1.2.0",
          "state": {
            "_model_module": "@jupyter-widgets/base",
            "_model_module_version": "1.2.0",
            "_model_name": "LayoutModel",
            "_view_count": null,
            "_view_module": "@jupyter-widgets/base",
            "_view_module_version": "1.2.0",
            "_view_name": "LayoutView",
            "align_content": null,
            "align_items": null,
            "align_self": null,
            "border": null,
            "bottom": null,
            "display": null,
            "flex": null,
            "flex_flow": null,
            "grid_area": null,
            "grid_auto_columns": null,
            "grid_auto_flow": null,
            "grid_auto_rows": null,
            "grid_column": null,
            "grid_gap": null,
            "grid_row": null,
            "grid_template_areas": null,
            "grid_template_columns": null,
            "grid_template_rows": null,
            "height": null,
            "justify_content": null,
            "justify_items": null,
            "left": null,
            "margin": null,
            "max_height": null,
            "max_width": null,
            "min_height": null,
            "min_width": null,
            "object_fit": null,
            "object_position": null,
            "order": null,
            "overflow": null,
            "overflow_x": null,
            "overflow_y": null,
            "padding": null,
            "right": null,
            "top": null,
            "visibility": null,
            "width": null
          }
        },
        "6f7a82f5b9ab43fcbca6403fa4e78cca": {
          "model_module": "@jupyter-widgets/controls",
          "model_name": "ProgressStyleModel",
          "model_module_version": "1.5.0",
          "state": {
            "_model_module": "@jupyter-widgets/controls",
            "_model_module_version": "1.5.0",
            "_model_name": "ProgressStyleModel",
            "_view_count": null,
            "_view_module": "@jupyter-widgets/base",
            "_view_module_version": "1.2.0",
            "_view_name": "StyleView",
            "bar_color": null,
            "description_width": ""
          }
        },
        "651d2a1cfaa1485aa21bdadae13da09c": {
          "model_module": "@jupyter-widgets/base",
          "model_name": "LayoutModel",
          "model_module_version": "1.2.0",
          "state": {
            "_model_module": "@jupyter-widgets/base",
            "_model_module_version": "1.2.0",
            "_model_name": "LayoutModel",
            "_view_count": null,
            "_view_module": "@jupyter-widgets/base",
            "_view_module_version": "1.2.0",
            "_view_name": "LayoutView",
            "align_content": null,
            "align_items": null,
            "align_self": null,
            "border": null,
            "bottom": null,
            "display": null,
            "flex": null,
            "flex_flow": null,
            "grid_area": null,
            "grid_auto_columns": null,
            "grid_auto_flow": null,
            "grid_auto_rows": null,
            "grid_column": null,
            "grid_gap": null,
            "grid_row": null,
            "grid_template_areas": null,
            "grid_template_columns": null,
            "grid_template_rows": null,
            "height": null,
            "justify_content": null,
            "justify_items": null,
            "left": null,
            "margin": null,
            "max_height": null,
            "max_width": null,
            "min_height": null,
            "min_width": null,
            "object_fit": null,
            "object_position": null,
            "order": null,
            "overflow": null,
            "overflow_x": null,
            "overflow_y": null,
            "padding": null,
            "right": null,
            "top": null,
            "visibility": null,
            "width": null
          }
        },
        "c80ed7eb9cf74f339d348d5cc46eb054": {
          "model_module": "@jupyter-widgets/controls",
          "model_name": "DescriptionStyleModel",
          "model_module_version": "1.5.0",
          "state": {
            "_model_module": "@jupyter-widgets/controls",
            "_model_module_version": "1.5.0",
            "_model_name": "DescriptionStyleModel",
            "_view_count": null,
            "_view_module": "@jupyter-widgets/base",
            "_view_module_version": "1.2.0",
            "_view_name": "StyleView",
            "description_width": ""
          }
        }
      }
    }
  },
  "nbformat": 4,
  "nbformat_minor": 0
}
